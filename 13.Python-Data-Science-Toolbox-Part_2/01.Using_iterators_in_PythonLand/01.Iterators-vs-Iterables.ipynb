{
 "cells": [
  {
   "attachments": {},
   "cell_type": "markdown",
   "metadata": {},
   "source": [
    "### Iterators vs. Iterables\n",
    "Let's do a quick recall of what you've learned about iterables and iterators. Recall from the video that an iterable is an object that can return an iterator, while an iterator is an object that keeps state and produces the next value when you call next() on it. In this exercise, you will identify which object is an iterable and which is an iterator.\n",
    "\n",
    "The environment has been pre-loaded with the variables flash1 and flash2. Try printing out their values with print() and next() to figure out which is an iterable and which is an iterator.\n",
    "\n",
    "\n",
    "Possible Answers\n",
    "\n",
    "- a) Both flash1 and flash2 are iterators.\n",
    "- b) Both flash1 and flash2 are iterables.\n",
    "- c) flash1 is an iterable and flash2 is an iterator.\n",
    "\n",
    "Answer: c"
   ]
  }
 ],
 "metadata": {
  "language_info": {
   "name": "python"
  },
  "orig_nbformat": 4
 },
 "nbformat": 4,
 "nbformat_minor": 2
}
