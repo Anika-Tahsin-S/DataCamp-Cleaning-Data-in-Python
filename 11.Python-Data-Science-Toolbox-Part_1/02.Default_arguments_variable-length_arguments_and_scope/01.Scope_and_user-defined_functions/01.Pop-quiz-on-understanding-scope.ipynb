{
 "cells": [
  {
   "attachments": {},
   "cell_type": "markdown",
   "metadata": {},
   "source": [
    "### Pop quiz on understanding scope\n",
    "\n",
    "In this exercise, you will practice what you've learned about scope in functions. The variable num has been predefined as 5, alongside the following function definitions:"
   ]
  },
  {
   "cell_type": "code",
   "execution_count": null,
   "metadata": {},
   "outputs": [],
   "source": [
    "def func1():\n",
    "    num = 3\n",
    "    print(num)\n",
    "\n",
    "def func2():\n",
    "    global num\n",
    "    double_num = num * 2\n",
    "    num = 6\n",
    "    print(double_num)"
   ]
  },
  {
   "attachments": {},
   "cell_type": "markdown",
   "metadata": {},
   "source": [
    "Try calling func1() and func2() in the shell, then answer the following questions:\n",
    "\n",
    "    What are the values printed out when you call func1() and func2()?\n",
    "    What is the value of num in the global scope after calling func1() and func2()?\n",
    "\n",
    "- func1() prints out 3, func2() prints out 6, and the value of num in the global scope is 3.\n",
    "- func1() prints out 3, func2() prints out 3, and the value of num in the global scope is 3.\n",
    "- func1() prints out 3, func2() prints out 10, and the value of num in the global scope is 10.\n",
    "- func1() prints out 3, func2() prints out 10, and the value of num in the global scope is 6."
   ]
  },
  {
   "attachments": {},
   "cell_type": "markdown",
   "metadata": {},
   "source": [
    "Answer: func1() prints out 3, func2() prints out 10, and the value of num in the global scope is 6."
   ]
  }
 ],
 "metadata": {
  "language_info": {
   "name": "python"
  },
  "orig_nbformat": 4
 },
 "nbformat": 4,
 "nbformat_minor": 2
}
