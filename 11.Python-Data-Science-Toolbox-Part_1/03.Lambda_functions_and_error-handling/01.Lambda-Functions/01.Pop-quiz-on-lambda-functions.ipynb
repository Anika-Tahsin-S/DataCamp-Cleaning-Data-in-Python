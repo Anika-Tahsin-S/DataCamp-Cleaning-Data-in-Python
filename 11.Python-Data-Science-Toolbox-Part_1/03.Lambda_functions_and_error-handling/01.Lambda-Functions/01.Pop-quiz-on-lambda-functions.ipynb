{
 "cells": [
  {
   "attachments": {},
   "cell_type": "markdown",
   "metadata": {},
   "source": [
    "### Pop quiz on lambda functions\n",
    "In this exercise, we will practice writing a simple lambda function and calling this function. Recall what you know about lambda functions and answer the following questions:\n",
    "\n",
    "- How would you write a lambda function add_bangs that adds three exclamation points '!!!' to the end of a string a?\n",
    "- How would you call add_bangs with the argument 'hello'?\n",
    "\n",
    "Possible Answers:<br>\n",
    "- a) The lambda function definition is: add_bangs = (a + '!!!'), and the function call is: add_bangs('hello').\n",
    "- b) The lambda function definition is: add_bangs = (lambda a: a + '!!!'), and the function call is: add_bangs('hello').\n",
    "- c) The lambda function definition is: (lambda a: a + '!!!') = add_bangs, and the function call is: add_bangs('hello').\n",
    "\n",
    "\n",
    "Answer: b"
   ]
  }
 ],
 "metadata": {
  "language_info": {
   "name": "python"
  },
  "orig_nbformat": 4
 },
 "nbformat": 4,
 "nbformat_minor": 2
}
