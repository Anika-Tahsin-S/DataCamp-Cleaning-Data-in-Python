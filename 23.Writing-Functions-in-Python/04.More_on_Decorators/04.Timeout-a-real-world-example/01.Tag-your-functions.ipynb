{
 "cells": [
  {
   "attachments": {},
   "cell_type": "markdown",
   "metadata": {},
   "source": [
    "### Tag your functions\n",
    "Tagging something means that you have given that thing one or more strings that act as labels. For instance, we often tag emails or photos so that we can search for them later. You've decided to write a decorator that will let you tag your functions with an arbitrary list of tags. You could use these tags for many things:\n",
    "\n",
    "    Adding information about who has worked on the function, so a user can look up who to ask if they run into trouble using it.\n",
    "    Labeling functions as \"experimental\" so that users know that the inputs and outputs might change in the future.\n",
    "    Marking any functions that you plan to remove in a future version of the code.\n",
    "    Etc.\n",
    "\n",
    "- Define a new decorator, named decorator(), to return.\n",
    "- Ensure the decorated function keeps its metadata.\n",
    "- Call the function being decorated and return the result.\n",
    "- Return the new decorator."
   ]
  },
  {
   "cell_type": "code",
   "execution_count": null,
   "metadata": {},
   "outputs": [],
   "source": [
    "def tag(*tags):\n",
    "  # Define a new decorator, named \"decorator\", to return\n",
    "  def decorator(func):\n",
    "    # Ensure the decorated function keeps its metadata\n",
    "    @wraps(func)\n",
    "    def wrapper(*args, **kwargs):\n",
    "      # Call the function being decorated and return the result\n",
    "      return func(*args, **kwargs)\n",
    "    wrapper.tags = tags\n",
    "    return wrapper\n",
    "  # Return the new decorator\n",
    "  return decorator\n",
    "\n",
    "@tag('test', 'this is a tag')\n",
    "def foo():\n",
    "  pass\n",
    "\n",
    "print(foo.tags)"
   ]
  }
 ],
 "metadata": {
  "language_info": {
   "name": "python"
  },
  "orig_nbformat": 4
 },
 "nbformat": 4,
 "nbformat_minor": 2
}
