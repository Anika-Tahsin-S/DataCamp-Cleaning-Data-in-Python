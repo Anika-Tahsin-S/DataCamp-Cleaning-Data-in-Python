{
 "cells": [
  {
   "attachments": {},
   "cell_type": "markdown",
   "metadata": {},
   "source": [
    "### Building a command line data app\n",
    "You are building a command line tool that lets a user interactively explore a dataset. We've defined four functions: mean(), std(), minimum(), and maximum() that users can call to analyze their data. Help finish this section of the code so that your users can call any of these functions by typing the function name at the input prompt.\n",
    "\n",
    "Note: The function get_user_input() in this exercise is a mock version of asking the user to enter a command. It randomly returns one of the four function names. In real life, you would ask for input and wait until the user entered a value.\n",
    "\n",
    "- Add the functions std(), minimum(), and maximum() to the function_map dictionary, like we did with mean().\n",
    "- The name of the function the user wants to call is stored in func_name. Use the dictionary of functions, function_map, to call the chosen function and pass data as an argument."
   ]
  },
  {
   "cell_type": "code",
   "execution_count": null,
   "metadata": {},
   "outputs": [],
   "source": [
    "# Add the missing function references to the function map\n",
    "function_map = {\n",
    "  'mean': mean,\n",
    "  'std': std,\n",
    "  'minimum': minimum,\n",
    "  'maximum': maximum\n",
    "}\n",
    "\n",
    "data = load_data()\n",
    "print(data)\n",
    "\n",
    "func_name = get_user_input()\n",
    "\n",
    "# Call the chosen function and pass \"data\" as an argument\n",
    "function_map[func_name](data)"
   ]
  }
 ],
 "metadata": {
  "language_info": {
   "name": "python"
  },
  "orig_nbformat": 4
 },
 "nbformat": 4,
 "nbformat_minor": 2
}
