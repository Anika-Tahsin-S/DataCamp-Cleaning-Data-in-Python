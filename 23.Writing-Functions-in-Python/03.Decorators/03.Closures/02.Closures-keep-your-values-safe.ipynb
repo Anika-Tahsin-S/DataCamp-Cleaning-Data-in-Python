{
 "cells": [
  {
   "attachments": {},
   "cell_type": "markdown",
   "metadata": {},
   "source": [
    "### Closures keep your values safe\n",
    "You are still helping your niece understand closures. You have written the function get_new_func() that returns a nested function. The nested function call_func() calls whatever function was passed to get_new_func(). You've also written my_special_function() which simply prints a message that states that you are executing my_special_function().\n",
    "\n",
    "You want to show your niece that no matter what you do to my_special_function() after passing it to get_new_func(), the new function still mimics the behavior of the original my_special_function() because it is in the new function's closure."
   ]
  },
  {
   "attachments": {},
   "cell_type": "markdown",
   "metadata": {},
   "source": [
    "#### Part 1\n",
    "- Show that you still get the original message even if you redefine my_special_function() to only print \"hello\"."
   ]
  },
  {
   "cell_type": "code",
   "execution_count": null,
   "metadata": {},
   "outputs": [],
   "source": [
    "def my_special_function():\n",
    "  print('You are running my_special_function()')\n",
    "  \n",
    "def get_new_func(func):\n",
    "  def call_func():\n",
    "    func()\n",
    "  return call_func\n",
    "\n",
    "new_func = get_new_func(my_special_function)\n",
    "\n",
    "# Redefine my_special_function() to just print \"hello\"\n",
    "def my_special_function():\n",
    "  print('hello')\n",
    "\n",
    "new_func()"
   ]
  },
  {
   "attachments": {},
   "cell_type": "markdown",
   "metadata": {},
   "source": [
    "#### Part 2\n",
    "- Show that even if you delete my_special_function(), you can still call new_func() without any problems."
   ]
  },
  {
   "cell_type": "code",
   "execution_count": null,
   "metadata": {},
   "outputs": [],
   "source": [
    "def my_special_function():\n",
    "  print('You are running my_special_function()')\n",
    "  \n",
    "def get_new_func(func):\n",
    "  def call_func():\n",
    "    func()\n",
    "  return call_func\n",
    "\n",
    "new_func = get_new_func(my_special_function)\n",
    "\n",
    "# Delete my_special_function()\n",
    "del(my_special_function)\n",
    "\n",
    "new_func()"
   ]
  },
  {
   "attachments": {},
   "cell_type": "markdown",
   "metadata": {},
   "source": [
    "#### Part 3\n",
    "- Show that you still get the original message even if you overwrite my_special_function() with the new function."
   ]
  },
  {
   "cell_type": "code",
   "execution_count": null,
   "metadata": {},
   "outputs": [],
   "source": [
    "def my_special_function():\n",
    "  print('You are running my_special_function()')\n",
    "  \n",
    "def get_new_func(func):\n",
    "  def call_func():\n",
    "    func()\n",
    "  return call_func\n",
    "\n",
    "# Overwrite `my_special_function` with the new function\n",
    "my_special_function = get_new_func(my_special_function)\n",
    "\n",
    "my_special_function()"
   ]
  }
 ],
 "metadata": {
  "language_info": {
   "name": "python"
  },
  "orig_nbformat": 4
 },
 "nbformat": 4,
 "nbformat_minor": 2
}
