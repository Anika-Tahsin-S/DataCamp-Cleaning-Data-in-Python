{
 "cells": [
  {
   "attachments": {},
   "cell_type": "markdown",
   "metadata": {},
   "source": [
    "### Understanding scope\n",
    "What four values does this script print?"
   ]
  },
  {
   "cell_type": "code",
   "execution_count": null,
   "metadata": {},
   "outputs": [],
   "source": [
    "x = 50\n",
    "\n",
    "def one():\n",
    "  x = 10\n",
    "\n",
    "def two():\n",
    "  global x\n",
    "  x = 30\n",
    "\n",
    "def three():\n",
    "  x = 100\n",
    "  print(x)\n",
    "\n",
    "for func in [one, two, three]:\n",
    "  func()\n",
    "  print(x)"
   ]
  },
  {
   "attachments": {},
   "cell_type": "markdown",
   "metadata": {},
   "source": [
    "Possible Answers\n",
    "a) 50, 30, 100, 50\n",
    "b) 10, 30, 30, 30\n",
    "c) 50, 30, 100, 30\n",
    "d) 10, 30, 100, 50\n",
    "e) 50, 50, 50, 50\n",
    "\n",
    "Answer: c"
   ]
  },
  {
   "attachments": {},
   "cell_type": "markdown",
   "metadata": {},
   "source": [
    "Good job! one() doesn't change the global x, so the first print() statement prints 50.\n",
    "\n",
    "two() does change the global x so the second print() statement prints 30.\n",
    "\n",
    "The print() statement inside the function three() is referencing the x value that is local to three(), so it prints 100.\n",
    "\n",
    "But three() does not change the global x value so the last print() statement prints 30 again."
   ]
  }
 ],
 "metadata": {
  "language_info": {
   "name": "python"
  },
  "orig_nbformat": 4
 },
 "nbformat": 4,
 "nbformat_minor": 2
}
