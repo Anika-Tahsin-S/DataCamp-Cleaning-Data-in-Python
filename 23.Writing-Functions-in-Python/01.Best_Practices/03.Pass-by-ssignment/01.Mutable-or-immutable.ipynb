{
 "cells": [
  {
   "attachments": {},
   "cell_type": "markdown",
   "metadata": {},
   "source": [
    "### Mutable or immutable?\n",
    "\n",
    "The following function adds a mapping between a string and the lowercase version of that string to a dictionary. What do you expect the values of d and s to be after the function is called?"
   ]
  },
  {
   "cell_type": "code",
   "execution_count": null,
   "metadata": {},
   "outputs": [],
   "source": [
    "def store_lower(_dict, _string):\n",
    "  \"\"\"Add a mapping between `_string` and a lowercased version of `_string` to `_dict`\n",
    "\n",
    "  Args:\n",
    "    _dict (dict): The dictionary to update.\n",
    "    _string (str): The string to add.\n",
    "  \"\"\"\n",
    "  orig_string = _string\n",
    "  _string = _string.lower()\n",
    "  _dict[orig_string] = _string\n",
    "\n",
    "d = {}\n",
    "s = 'Hello'\n",
    "\n",
    "store_lower(d, s)"
   ]
  },
  {
   "attachments": {},
   "cell_type": "markdown",
   "metadata": {},
   "source": [
    "Possible Answers<br>\n",
    "a) d = {}, s = 'Hello'<br>\n",
    "b) d = {}, s = 'hello'<br>\n",
    "c) d = {'Hello': 'hello'}, s = 'Hello'<br>\n",
    "d) d = {'Hello': 'hello'}, s = 'hello'<br>\n",
    "e) d = {'hello': 'hello'}, s = 'hello'<br>\n",
    "\n",
    "\n",
    "Answer: c<br>\n",
    "Dictionaries are mutable objects in Python, so the function can directly change it in the _dict[_orig_string] = _string statement. Strings, on the other hand, are immutable. When the function creates the lowercase version, it has to assign it to the _string variable. This disconnects what happens to _string from the external s variable."
   ]
  }
 ],
 "metadata": {
  "language_info": {
   "name": "python"
  },
  "orig_nbformat": 4
 },
 "nbformat": 4,
 "nbformat_minor": 2
}
