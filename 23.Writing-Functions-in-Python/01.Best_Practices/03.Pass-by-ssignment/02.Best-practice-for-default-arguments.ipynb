{
 "cells": [
  {
   "attachments": {},
   "cell_type": "markdown",
   "metadata": {},
   "source": [
    "### Best practice for default arguments\n",
    "One of your co-workers (who obviously didn't take this course) has written this function for adding a column to a pandas DataFrame. Unfortunately, they used a mutable variable as a default argument value! Please show them a better way to do this so that they don't get unexpected behavior."
   ]
  },
  {
   "cell_type": "code",
   "execution_count": null,
   "metadata": {},
   "outputs": [],
   "source": [
    "def add_column(values, df=pandas.DataFrame()):\n",
    "  \"\"\"Add a column of `values` to a DataFrame `df`.\n",
    "  The column will be named \"col_<n>\" where \"n\" is\n",
    "  the numerical index of the column.\n",
    "\n",
    "  Args:\n",
    "    values (iterable): The values of the new column\n",
    "    df (DataFrame, optional): The DataFrame to update.\n",
    "      If no DataFrame is passed, one is created by default.\n",
    "\n",
    "  Returns:\n",
    "    DataFrame\n",
    "  \"\"\"\n",
    "  df['col_{}'.format(len(df.columns))] = values\n",
    "  return df"
   ]
  },
  {
   "attachments": {},
   "cell_type": "markdown",
   "metadata": {},
   "source": [
    "- Change the default value of df to an immutable value to follow best practices.\n",
    "- Update the code of the function so that a new DataFrame is created if the caller didn't pass one."
   ]
  },
  {
   "attachments": {},
   "cell_type": "markdown",
   "metadata": {},
   "source": [
    "# Use an immutable variable for the default argument\n",
    "def better_add_column(values, df=None):\n",
    "  \"\"\"Add a column of `values` to a DataFrame `df`.\n",
    "  The column will be named \"col_<n>\" where \"n\" is\n",
    "  the numerical index of the column.\n",
    "\n",
    "  Args:\n",
    "    values (iterable): The values of the new column\n",
    "    df (DataFrame, optional): The DataFrame to update.\n",
    "      If no DataFrame is passed, one is created by default.\n",
    "\n",
    "  Returns:\n",
    "    DataFrame\n",
    "  \"\"\"\n",
    "  # Update the function to create a default DataFrame\n",
    "  if df is None:\n",
    "    df = pandas.DataFrame()\n",
    "  df['col_{}'.format(len(df.columns))] = values\n",
    "  return df"
   ]
  }
 ],
 "metadata": {
  "language_info": {
   "name": "python"
  },
  "orig_nbformat": 4
 },
 "nbformat": 4,
 "nbformat_minor": 2
}
