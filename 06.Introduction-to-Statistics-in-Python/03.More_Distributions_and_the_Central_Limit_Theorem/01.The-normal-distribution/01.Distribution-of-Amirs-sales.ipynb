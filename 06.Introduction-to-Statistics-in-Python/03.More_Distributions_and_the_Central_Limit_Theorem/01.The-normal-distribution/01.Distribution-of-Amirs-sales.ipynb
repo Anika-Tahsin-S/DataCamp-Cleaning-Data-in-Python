{
 "cells": [
  {
   "attachments": {},
   "cell_type": "markdown",
   "metadata": {},
   "source": [
    "### Distribution of Amir's sales\n",
    "Since each deal Amir worked on (both won and lost) was different, each was worth a different amount of money. These values are stored in the amount column of amir_deals As part of Amir's performance review, you want to be able to estimate the probability of him selling different amounts, but before you can do this, you'll need to determine what kind of distribution the amount variable follows.\n",
    "\n",
    "Both pandas as pd and matplotlib.pyplot as plt are loaded and amir_deals is available."
   ]
  },
  {
   "attachments": {},
   "cell_type": "markdown",
   "metadata": {},
   "source": [
    "#### Part 1\n",
    "- Create a histogram with 10 bins to visualize the distribution of the amount. Show the plot.\n"
   ]
  },
  {
   "cell_type": "code",
   "execution_count": null,
   "metadata": {},
   "outputs": [],
   "source": [
    "# Histogram of amount with 10 bins and show plot\n",
    "amir_deals['amount'].hist(bins=10)\n",
    "plt.show()"
   ]
  },
  {
   "attachments": {},
   "cell_type": "markdown",
   "metadata": {},
   "source": [
    "#### Part 2\n",
    "Which probability distribution do the sales amounts most closely follow?\n",
    "\n",
    "Possible Answers\n",
    "- Uniform\n",
    "- Binomial\n",
    "- Normal\n",
    "- None of the above\n",
    "\n",
    "Answer: Normal<br>\n",
    "Now that you've visualized the data, you know that you can approximate probabilities of different amounts using the normal distribution."
   ]
  }
 ],
 "metadata": {
  "language_info": {
   "name": "python"
  },
  "orig_nbformat": 4
 },
 "nbformat": 4,
 "nbformat_minor": 2
}
