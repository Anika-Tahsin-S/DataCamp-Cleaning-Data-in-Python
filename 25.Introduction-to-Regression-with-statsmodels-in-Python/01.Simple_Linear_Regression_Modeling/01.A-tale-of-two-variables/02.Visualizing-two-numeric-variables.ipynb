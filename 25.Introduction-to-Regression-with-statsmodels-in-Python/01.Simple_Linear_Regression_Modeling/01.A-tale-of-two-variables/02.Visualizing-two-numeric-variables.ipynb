{
 "cells": [
  {
   "attachments": {},
   "cell_type": "markdown",
   "metadata": {},
   "source": [
    "### Visualizing two numeric variables\n",
    "\n",
    "Before you can run any statistical models, it's usually a good idea to visualize your dataset. Here, you'll look at the relationship between house price per area and the number of nearby convenience stores using the Taiwan real estate dataset.\n",
    "\n",
    "One challenge in this dataset is that the number of convenience stores contains integer data, causing points to overlap. To solve this, you will make the points transparent.\n",
    "\n",
    "taiwan_real_estate is available as a pandas DataFrame.\n",
    "\n",
    "#### Part 1\n",
    "- Import the seaborn package, aliased as sns.\n",
    "- Using taiwan_real_estate, draw a scatter plot of \"price_twd_msq\" (y-axis) versus \"n_convenience\" (x-axis).\n"
   ]
  },
  {
   "cell_type": "code",
   "execution_count": null,
   "metadata": {},
   "outputs": [],
   "source": [
    "# Import seaborn with alias sns\n",
    "import seaborn as sns\n",
    "\n",
    "# Import matplotlib.pyplot with alias plt\n",
    "import matplotlib.pyplot as plt\n",
    "\n",
    "# Draw the scatter plot\n",
    "sns.scatterplot(x='n_convenience', y='price_twd_msq',data = taiwan_real_estate)\n",
    "\n",
    "# Show the plot\n",
    "plt.show()"
   ]
  },
  {
   "attachments": {},
   "cell_type": "markdown",
   "metadata": {},
   "source": [
    "#### Part 2\n",
    "- Draw a trend line calculated using linear regression. Omit the confidence interval ribbon. Note: The scatter_kws argument, pre-filled in the exercise, makes the data points 50% transparent."
   ]
  },
  {
   "cell_type": "code",
   "execution_count": null,
   "metadata": {},
   "outputs": [],
   "source": [
    "# Import seaborn with alias sns\n",
    "import seaborn as sns\n",
    "\n",
    "# Import matplotlib.pyplot with alias plt\n",
    "import matplotlib.pyplot as plt\n",
    "\n",
    "# Draw the scatter plot\n",
    "sns.scatterplot(x=\"n_convenience\",\n",
    "                y=\"price_twd_msq\",\n",
    "                data=taiwan_real_estate)\n",
    "\n",
    "# Draw a trend line on the scatter plot of price_twd_msq vs. n_convenience\n",
    "sns.regplot(x='n_convenience', \n",
    "         y='price_twd_msq',\n",
    "         data = taiwan_real_estate,\n",
    "         ci=None,\n",
    "         scatter_kws={'alpha': 0.5})\n",
    "\n",
    "# Show the plot\n",
    "plt.show()"
   ]
  }
 ],
 "metadata": {
  "language_info": {
   "name": "python"
  },
  "orig_nbformat": 4
 },
 "nbformat": 4,
 "nbformat_minor": 2
}
