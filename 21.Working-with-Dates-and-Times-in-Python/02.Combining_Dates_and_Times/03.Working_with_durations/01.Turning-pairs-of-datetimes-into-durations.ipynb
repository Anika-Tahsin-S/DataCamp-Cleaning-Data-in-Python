{
 "cells": [
  {
   "attachments": {},
   "cell_type": "markdown",
   "metadata": {},
   "source": [
    "### Turning pairs of datetimes into durations\n",
    "When working with timestamps, we often want to know how much time has elapsed between events. Thankfully, we can use datetime arithmetic to ask Python to do the heavy lifting for us so we don't need to worry about day, month, or year boundaries. Let's calculate the number of seconds that the bike was out of the dock for each trip.\n",
    "\n",
    "Continuing our work from a previous coding exercise, the bike trip data has been loaded as the list onebike_datetimes. Each element of the list consists of two datetime objects, corresponding to the start and end of a trip, respectively.\n",
    "\n",
    "- Within the loop:\n",
    "    - Use arithmetic on the start and end elements to find the length of the trip\n",
    "    - Save the results to trip_duration.\n",
    "    - Calculate trip_length_seconds from trip_duration.\n"
   ]
  },
  {
   "cell_type": "code",
   "execution_count": null,
   "metadata": {},
   "outputs": [],
   "source": [
    "# Initialize a list for all the trip durations\n",
    "onebike_durations = []\n",
    "\n",
    "for trip in onebike_datetimes:\n",
    "  # Create a timedelta object corresponding to the length of the trip\n",
    "  trip_duration = trip['end'] - trip['start']\n",
    "  \n",
    "  # Get the total elapsed seconds in trip_duration\n",
    "  trip_length_seconds = trip_duration.total_seconds()\n",
    "  \n",
    "  # Append the results to our list\n",
    "  onebike_durations.append(trip_length_seconds)"
   ]
  }
 ],
 "metadata": {
  "language_info": {
   "name": "python"
  },
  "orig_nbformat": 4
 },
 "nbformat": 4,
 "nbformat_minor": 2
}
