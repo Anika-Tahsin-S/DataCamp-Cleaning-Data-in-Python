{
 "cells": [
  {
   "attachments": {},
   "cell_type": "markdown",
   "metadata": {},
   "source": [
    "### Parsing pairs of strings as datetimes\n",
    "Up until now, you've been working with a pre-processed list of datetimes for W20529's trips. For this exercise, you're going to go one step back in the data cleaning pipeline and work with the strings that the data started as.\n",
    "\n",
    "Explore onebike_datetime_strings in the IPython shell to determine the correct format. datetime has already been loaded for you.\n",
    "Reference\t\n",
    "%Y\t4 digit year (0000-9999)\n",
    "%m\t2 digit month (1-12)\n",
    "%d\t2 digit day (1-31)\n",
    "%H\t2 digit hour (0-23)\n",
    "%M\t2 digit minute (0-59)\n",
    "%S\t2 digit second (0-59)\n",
    "\n",
    "-Outside the for loop, fill out the fmt string with the correct parsing format for the data.\n",
    "- Within the for loop, parse the start and end strings into the trip dictionary with start and end keys and datetime objects for values.\n"
   ]
  },
  {
   "cell_type": "code",
   "execution_count": null,
   "metadata": {},
   "outputs": [],
   "source": [
    "# Write down the format string\n",
    "fmt = '%Y-%m-%d %H:%M:%S'\n",
    "\n",
    "# Initialize a list for holding the pairs of datetime objects\n",
    "onebike_datetimes = []\n",
    "\n",
    "# Loop over all trips\n",
    "for (start, end) in onebike_datetime_strings:\n",
    "  trip = {'start': datetime.strptime(start, fmt),\n",
    "          'end': datetime.strptime(end, fmt)}\n",
    "  \n",
    "  # Append the trip\n",
    "  onebike_datetimes.append(trip)"
   ]
  }
 ],
 "metadata": {
  "kernelspec": {
   "display_name": "something",
   "language": "python",
   "name": "python3"
  },
  "language_info": {
   "name": "python",
   "version": "3.9.0"
  },
  "orig_nbformat": 4,
  "vscode": {
   "interpreter": {
    "hash": "5ec318e85ccccad70bf8ecb47c0fb8e5513b404b712cf83bef486c4940132544"
   }
  }
 },
 "nbformat": 4,
 "nbformat_minor": 2
}
