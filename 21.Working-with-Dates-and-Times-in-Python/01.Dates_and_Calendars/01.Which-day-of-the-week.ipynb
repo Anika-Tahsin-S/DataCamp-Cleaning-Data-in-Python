{
 "cells": [
  {
   "attachments": {},
   "cell_type": "markdown",
   "metadata": {},
   "source": [
    "### Which day of the week?\n",
    "\n",
    "Hurricane Andrew, which hit Florida on August 24, 1992, was one of the costliest and deadliest hurricanes in US history. Which day of the week did it make landfall?"
   ]
  },
  {
   "cell_type": "code",
   "execution_count": null,
   "metadata": {},
   "outputs": [],
   "source": [
    "#### Part 1\n",
    "# Import date from datetime\n",
    "from datetime import date"
   ]
  },
  {
   "cell_type": "code",
   "execution_count": null,
   "metadata": {},
   "outputs": [],
   "source": [
    "#### Part 2\n",
    "# Create a date object\n",
    "hurricane_andrew = date(1992, 8, 24)"
   ]
  },
  {
   "cell_type": "code",
   "execution_count": null,
   "metadata": {},
   "outputs": [],
   "source": [
    "#### Part 3\n",
    "# Now ask Python what day of the week Hurricane Andrew hit \n",
    "# (remember that Python counts days of the week starting from Monday as 0, Tuesday as 1, and so on).\n",
    "\n",
    "# Import date from datetime\n",
    "from datetime import date\n",
    "\n",
    "# Create a date object\n",
    "hurricane_andrew = date(1992, 8, 24)\n",
    "\n",
    "# Which day of the week is the date?\n",
    "print(hurricane_andrew.weekday())"
   ]
  }
 ],
 "metadata": {
  "language_info": {
   "name": "python"
  },
  "orig_nbformat": 4
 },
 "nbformat": 4,
 "nbformat_minor": 2
}
