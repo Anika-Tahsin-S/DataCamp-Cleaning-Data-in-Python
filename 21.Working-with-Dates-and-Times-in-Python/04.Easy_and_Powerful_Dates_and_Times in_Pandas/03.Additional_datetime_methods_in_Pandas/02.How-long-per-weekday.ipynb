{
 "cells": [
  {
   "attachments": {},
   "cell_type": "markdown",
   "metadata": {},
   "source": [
    "### How long per weekday?\n",
    "Pandas has a number of datetime-related attributes within the .dt accessor. Many of them are ones you've encountered before, like .dt.month. Others are convenient and save time compared to standard Python, like .dt.day_name().\n",
    "\n",
    "- Add a new column to rides called 'Ride start weekday', which is the weekday of the Start date.\n",
    "- Print the median ride duration for each weekday.\n"
   ]
  },
  {
   "cell_type": "code",
   "execution_count": null,
   "metadata": {},
   "outputs": [],
   "source": [
    "# Add a column for the weekday of the start of the ride\n",
    "rides['Ride start weekday'] = rides['Start date'].dt.day_name()\n",
    "\n",
    "# Print the median trip time per weekday\n",
    "print(rides.groupby('Ride start weekday')['Duration'].median())"
   ]
  }
 ],
 "metadata": {
  "kernelspec": {
   "display_name": "something",
   "language": "python",
   "name": "python3"
  },
  "language_info": {
   "name": "python",
   "version": "3.9.0"
  },
  "orig_nbformat": 4,
  "vscode": {
   "interpreter": {
    "hash": "5ec318e85ccccad70bf8ecb47c0fb8e5513b404b712cf83bef486c4940132544"
   }
  }
 },
 "nbformat": 4,
 "nbformat_minor": 2
}
