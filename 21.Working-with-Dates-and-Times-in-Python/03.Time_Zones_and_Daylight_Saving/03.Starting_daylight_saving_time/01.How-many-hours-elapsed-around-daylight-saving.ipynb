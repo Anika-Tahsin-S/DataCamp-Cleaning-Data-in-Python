{
 "cells": [
  {
   "attachments": {},
   "cell_type": "markdown",
   "metadata": {},
   "source": [
    "### How many hours elapsed around daylight saving?\n",
    "Since our bike data takes place in the fall, you'll have to do something else to learn about the start of daylight savings time.\n",
    "\n",
    "Let's look at March 12, 2017, in the Eastern United States, when Daylight Saving kicked in at 2 AM.\n",
    "\n",
    "If you create a datetime for midnight that night, and add 6 hours to it, how much time will have elapsed?"
   ]
  },
  {
   "attachments": {},
   "cell_type": "markdown",
   "metadata": {},
   "source": [
    "#### Part 1\n",
    "- You already have a datetime called start, set for March 12, 2017 at midnight, set to the timezone 'America/New_York'.\n",
    "\n",
    "- Add six hours to start and assign it to end. Look at the UTC offset for the two results."
   ]
  },
  {
   "cell_type": "code",
   "execution_count": null,
   "metadata": {},
   "outputs": [],
   "source": [
    "# Import datetime, timedelta, tz, timezone\n",
    "from datetime import datetime, timedelta, timezone\n",
    "from dateutil import tz\n",
    "\n",
    "# Start on March 12, 2017, midnight, then add 6 hours\n",
    "start = datetime(2017, 3, 12, tzinfo = tz.gettz('America/New_York'))\n",
    "end = start + timedelta(hours=6)\n",
    "print(start.isoformat() + \" to \" + end.isoformat())\n",
    "\n",
    "# output: 2017-03-12T00:00:00-05:00 to 2017-03-12T06:00:00-04:00"
   ]
  },
  {
   "attachments": {},
   "cell_type": "markdown",
   "metadata": {},
   "source": [
    "#### Part 2\n",
    "- You added 6 hours, and got 6 AM, despite the fact that the clocks springing forward means only 5 hours would have actually elapsed!\n",
    "\n",
    "- Calculate the time between start and end. How much time does Python think has elapsed?"
   ]
  },
  {
   "cell_type": "code",
   "execution_count": null,
   "metadata": {},
   "outputs": [],
   "source": [
    "# Import datetime, timedelta, tz, timezone\n",
    "from datetime import datetime, timedelta, timezone\n",
    "from dateutil import tz\n",
    "\n",
    "# Start on March 12, 2017, midnight, then add 6 hours\n",
    "start = datetime(2017, 3, 12, tzinfo = tz.gettz('America/New_York'))\n",
    "end = start + timedelta(hours=6)\n",
    "print(start.isoformat() + \" to \" + end.isoformat())\n",
    "\n",
    "# How many hours have elapsed?\n",
    "print((end - start).seconds/(60*60))\n",
    "\n",
    "# output:\n",
    "#   2017-03-12T00:00:00-05:00 to 2017-03-12T06:00:00-04:00\n",
    "#   6.0"
   ]
  },
  {
   "attachments": {},
   "cell_type": "markdown",
   "metadata": {},
   "source": [
    "#### Part 3\n",
    "- Move your datetime objects into UTC and calculate the elapsed time again.\n",
    "- Once you're in UTC, what result do you get?"
   ]
  },
  {
   "cell_type": "code",
   "execution_count": null,
   "metadata": {},
   "outputs": [],
   "source": [
    "# Import datetime, timedelta, tz, timezone\n",
    "from datetime import datetime, timedelta, timezone\n",
    "from dateutil import tz\n",
    "\n",
    "# Start on March 12, 2017, midnight, then add 6 hours\n",
    "start = datetime(2017, 3, 12, tzinfo = tz.gettz('America/New_York'))\n",
    "end = start + timedelta(hours=6)\n",
    "print(start.isoformat() + \" to \" + end.isoformat())\n",
    "\n",
    "# How many hours have elapsed?\n",
    "print((end - start).total_seconds()/(60*60))\n",
    "\n",
    "# What if we move to UTC?\n",
    "print((end.astimezone(timezone.utc) - start.astimezone(timezone.utc))\\\n",
    "      .total_seconds()/(60*60))\n",
    "\n",
    "# output:\n",
    "#   2017-03-12T00:00:00-05:00 to 2017-03-12T06:00:00-04:00\n",
    "#   6.0 \n",
    "#   5.0"
   ]
  }
 ],
 "metadata": {
  "kernelspec": {
   "display_name": "something",
   "language": "python",
   "name": "python3"
  },
  "language_info": {
   "name": "python",
   "version": "3.9.0"
  },
  "orig_nbformat": 4,
  "vscode": {
   "interpreter": {
    "hash": "5ec318e85ccccad70bf8ecb47c0fb8e5513b404b712cf83bef486c4940132544"
   }
  }
 },
 "nbformat": 4,
 "nbformat_minor": 2
}
