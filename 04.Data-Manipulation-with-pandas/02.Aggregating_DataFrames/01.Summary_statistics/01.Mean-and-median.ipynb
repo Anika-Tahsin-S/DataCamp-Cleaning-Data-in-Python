{
 "cells": [
  {
   "attachments": {},
   "cell_type": "markdown",
   "metadata": {},
   "source": [
    "### Mean and median\n",
    "\n",
    "Summary statistics are exactly what they sound like - they summarize many numbers in one statistic. For example, mean, median, minimum, maximum, and standard deviation are summary statistics. Calculating summary statistics allows you to get a better sense of your data, even if there's a lot of it.\n",
    "\n",
    "sales is available and pandas is loaded as pd.\n",
    "\n",
    "- Explore your new DataFrame first by printing the first few rows of the sales DataFrame.\n",
    "- Print information about the columns in sales.\n",
    "- Print the mean of the weekly_sales column.\n",
    "- Print the median of the weekly_sales column.\n"
   ]
  },
  {
   "cell_type": "code",
   "execution_count": null,
   "metadata": {},
   "outputs": [],
   "source": [
    "# Print the head of the sales DataFrame\n",
    "print(sales.head())\n",
    "\n",
    "# Print the info about the sales DataFrame\n",
    "print(sales.info())\n",
    "\n",
    "# Print the mean of weekly_sales\n",
    "print(sales.weekly_sales.mean())\n",
    "\n",
    "# Print the median of weekly_sales\n",
    "print(sales.weekly_sales.median())"
   ]
  }
 ],
 "metadata": {
  "language_info": {
   "name": "python"
  },
  "orig_nbformat": 4
 },
 "nbformat": 4,
 "nbformat_minor": 2
}
