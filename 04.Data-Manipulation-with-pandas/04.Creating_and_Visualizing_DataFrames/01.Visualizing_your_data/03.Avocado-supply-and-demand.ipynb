{
 "cells": [
  {
   "attachments": {},
   "cell_type": "markdown",
   "metadata": {},
   "source": [
    "### Avocado supply and demand\n",
    "\n",
    "\n",
    "Scatter plots are ideal for visualizing relationships between numerical variables. In this exercise, you'll compare the number of avocados sold to average price and see if they're at all related. If they're related, you may be able to use one number to predict the other.\n",
    "\n",
    "matplotlib.pyplot has been imported as plt, pandas has been imported as pd, and avocados is available.\n",
    "\n",
    "- Create a scatter plot with nb_sold on the x-axis and avg_price on the y-axis. Title it \"Number of avocados sold vs. average price\".\n",
    "- Show the plot.\n"
   ]
  },
  {
   "cell_type": "code",
   "execution_count": null,
   "metadata": {},
   "outputs": [],
   "source": [
    "# Scatter plot of avg_price vs. nb_sold with title\n",
    "avocados.plot(x='nb_sold', y='avg_price', kind='scatter', title='Number of avocados sold vs. average price')\n",
    "\n",
    "# Show the plot\n",
    "plt.show()"
   ]
  }
 ],
 "metadata": {
  "language_info": {
   "name": "python"
  },
  "orig_nbformat": 4
 },
 "nbformat": 4,
 "nbformat_minor": 2
}
