{
 "cells": [
  {
   "attachments": {},
   "cell_type": "markdown",
   "metadata": {},
   "source": [
    "### Dictionary of lists\n",
    "\n",
    "\n",
    "Some more data just came in! This time, you'll use the dictionary of lists method, parsing the data column by column.<br>\n",
    "date \t| small_sold |\tlarge_sold<br>\n",
    "\"2019-11-17\" |\t10859987 |\t7674135<br>\n",
    "\"2019-12-01\" |\t9291631  |\t6238096<br>\n",
    "\n",
    "pandas as pd is imported.\n",
    "\n",
    "- Create a dictionary of lists with the new data called avocados_dict.\n",
    "- Convert the dictionary to a DataFrame called avocados_2019.\n",
    "- Print your new DataFrame.\n"
   ]
  },
  {
   "cell_type": "code",
   "execution_count": null,
   "metadata": {},
   "outputs": [],
   "source": [
    "# Create a dictionary of lists with new data\n",
    "avocados_dict = {\n",
    "  \"date\": [\"2019-11-17\", \"2019-12-01\"],\n",
    "  \"small_sold\": [10859987, 9291631],\n",
    "  \"large_sold\": [7674135, 6238096]\n",
    "}\n",
    "\n",
    "# Convert dictionary into DataFrame\n",
    "avocados_2019 = pd.DataFrame(avocados_dict)\n",
    "\n",
    "# Print the new DataFrame\n",
    "print(avocados_2019)"
   ]
  }
 ],
 "metadata": {
  "kernelspec": {
   "display_name": "something",
   "language": "python",
   "name": "python3"
  },
  "language_info": {
   "name": "python",
   "version": "3.9.0"
  },
  "orig_nbformat": 4,
  "vscode": {
   "interpreter": {
    "hash": "5ec318e85ccccad70bf8ecb47c0fb8e5513b404b712cf83bef486c4940132544"
   }
  }
 },
 "nbformat": 4,
 "nbformat_minor": 2
}
