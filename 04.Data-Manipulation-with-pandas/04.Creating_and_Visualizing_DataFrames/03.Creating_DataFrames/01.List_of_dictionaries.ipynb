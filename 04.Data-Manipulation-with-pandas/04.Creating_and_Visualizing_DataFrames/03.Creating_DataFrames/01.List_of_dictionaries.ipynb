{
 "cells": [
  {
   "attachments": {},
   "cell_type": "markdown",
   "metadata": {},
   "source": [
    "### List of dictionaries\n",
    "\n",
    "\n",
    "You recently got some new avocado data from 2019 that you'd like to put in a DataFrame using the list of dictionaries method. Remember that with this method, you go through the data row by row.<BR>\n",
    "date |\tsmall_sold |\tlarge_sold<BR>\n",
    "\"2019-11-03\" |\t10376832 |\t7835071<BR>\n",
    "\"2019-11-10\" |\t10717154 |\t8561348<BR>\n",
    "\n",
    "pandas as pd is imported.\n",
    "\n",
    "\n",
    "- Create a list of dictionaries with the new data called avocados_list.\n",
    "- Convert the list into a DataFrame called avocados_2019.\n",
    "- Print your new DataFrame.\n"
   ]
  },
  {
   "cell_type": "code",
   "execution_count": null,
   "metadata": {},
   "outputs": [],
   "source": [
    "# Create a list of dictionaries with new data\n",
    "avocados_list = [\n",
    "    {'date': \"2019-11-03\", 'small_sold': 10376832, 'large_sold': 7835071},\n",
    "    {'date': \"2019-11-10\", 'small_sold': 10717154, 'large_sold': 8561348},\n",
    "]\n",
    "\n",
    "# Convert list into DataFrame\n",
    "avocados_2019 = pd.DataFrame(avocados_list)\n",
    "\n",
    "# Print the new DataFrame\n",
    "print(avocados_2019)"
   ]
  },
  {
   "attachments": {},
   "cell_type": "markdown",
   "metadata": {},
   "source": [
    "output:<br>\n",
    "      |       date |  small_sold | large_sold<br>\n",
    "    0 | 2019-11-03 |   10376832  |   7835071<br>\n",
    "    1 | 2019-11-10 |   10717154  |   8561348<br>\n"
   ]
  }
 ],
 "metadata": {
  "language_info": {
   "name": "python"
  },
  "orig_nbformat": 4
 },
 "nbformat": 4,
 "nbformat_minor": 2
}
