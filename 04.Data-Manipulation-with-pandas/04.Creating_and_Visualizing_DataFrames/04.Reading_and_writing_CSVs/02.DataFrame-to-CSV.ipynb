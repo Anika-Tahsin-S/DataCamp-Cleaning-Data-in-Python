{
 "cells": [
  {
   "attachments": {},
   "cell_type": "markdown",
   "metadata": {},
   "source": [
    "### DataFrame to CSV\n",
    "\n",
    "You're almost there! To make things easier to read, you'll need to sort the data and export it to CSV so that your colleagues can read it.\n",
    "\n",
    "pandas as pd has been imported for you.\n",
    "\n",
    "- Sort airline_totals by the values of bumps_per_10k from highest to lowest, storing as airline_totals_sorted.\n",
    "- Print your sorted DataFrame.\n",
    "- Save the sorted DataFrame as a CSV called \"airline_totals_sorted.csv\".\n"
   ]
  },
  {
   "cell_type": "code",
   "execution_count": null,
   "metadata": {},
   "outputs": [],
   "source": [
    "# Create airline_totals_sorted\n",
    "airline_totals_sorted = airline_totals.sort_values('bumps_per_10k', ascending=False)\n",
    "\n",
    "# Print airline_totals_sorted\n",
    "print(airline_totals_sorted)\n",
    "\n",
    "# Save as airline_totals_sorted.csv\n",
    "airline_totals_sorted.to_csv(\"airline_totals_sorted.csv\")"
   ]
  }
 ],
 "metadata": {
  "language_info": {
   "name": "python"
  },
  "orig_nbformat": 4
 },
 "nbformat": 4,
 "nbformat_minor": 2
}
