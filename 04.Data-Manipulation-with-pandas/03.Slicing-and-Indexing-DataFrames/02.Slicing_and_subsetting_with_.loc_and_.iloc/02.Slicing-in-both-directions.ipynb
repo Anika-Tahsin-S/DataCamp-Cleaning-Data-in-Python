{
 "cells": [
  {
   "attachments": {},
   "cell_type": "markdown",
   "metadata": {},
   "source": [
    "### Slicing in both directions\n",
    "\n",
    "You've seen slicing DataFrames by rows and by columns, but since DataFrames are two-dimensional objects, it is often natural to slice both dimensions at once. That is, by passing two arguments to .loc[], you can subset by rows and columns in one go.\n",
    "\n",
    "pandas is loaded as pd. temperatures_srt is indexed by country and city, has a sorted index, and is available.\n",
    "\n",
    "- Use .loc[] slicing to subset rows from India, Hyderabad to Iraq, Baghdad.\n",
    "- Use .loc[] slicing to subset columns from date to avg_temp_c.\n",
    "- Slice in both directions at once from Hyderabad to Baghdad, and date to avg_temp_c.\n"
   ]
  },
  {
   "cell_type": "code",
   "execution_count": null,
   "metadata": {},
   "outputs": [],
   "source": [
    "# Subset rows from India, Hyderabad to Iraq, Baghdad\n",
    "print(temperatures_srt.loc[(\"India\",\"Hyderabad\"):(\"Iraq\",\"Baghdad\")])\n",
    "\n",
    "# Subset columns from date to avg_temp_c\n",
    "print(temperatures_srt.loc[:, \"date\":\"avg_temp_c\"])\n",
    "\n",
    "# Subset in both directions at once\n",
    "print(temperatures_srt.loc[(\"India\",\"Hyderabad\"):(\"Iraq\",\"Baghdad\"), \"date\":\"avg_temp_c\"])"
   ]
  }
 ],
 "metadata": {
  "kernelspec": {
   "display_name": "something",
   "language": "python",
   "name": "python3"
  },
  "language_info": {
   "name": "python",
   "version": "3.9.0"
  },
  "orig_nbformat": 4,
  "vscode": {
   "interpreter": {
    "hash": "5ec318e85ccccad70bf8ecb47c0fb8e5513b404b712cf83bef486c4940132544"
   }
  }
 },
 "nbformat": 4,
 "nbformat_minor": 2
}
