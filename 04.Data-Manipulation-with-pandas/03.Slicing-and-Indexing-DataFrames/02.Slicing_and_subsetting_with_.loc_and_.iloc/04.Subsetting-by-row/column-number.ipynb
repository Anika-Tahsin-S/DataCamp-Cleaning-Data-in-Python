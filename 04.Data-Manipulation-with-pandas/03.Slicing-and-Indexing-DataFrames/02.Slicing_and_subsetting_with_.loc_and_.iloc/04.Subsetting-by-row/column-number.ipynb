{
 "cells": [
  {
   "attachments": {},
   "cell_type": "markdown",
   "metadata": {},
   "source": [
    "### Subsetting by row/column number\n",
    "\n",
    "\n",
    "The most common ways to subset rows are the ways we've previously discussed: using a Boolean condition or by index labels. However, it is also occasionally useful to pass row numbers.\n",
    "\n",
    "This is done using .iloc[], and like .loc[], it can take two arguments to let you subset by rows and columns.\n",
    "\n",
    "pandas is loaded as pd. temperatures (without an index) is available.\n",
    "\n",
    "- Use .iloc[] on temperatures to take subsets.\n",
    "\n",
    "    - Get the 23rd row, 2nd column (index positions 22 and 1).\n",
    "    - Get the first 5 rows (index positions 0 to 5).\n",
    "    - Get all rows, columns 3 and 4 (index positions 2 to 4).\n",
    "    - Get the first 5 rows, columns 3 and 4.\n",
    "\n"
   ]
  },
  {
   "cell_type": "code",
   "execution_count": null,
   "metadata": {},
   "outputs": [],
   "source": [
    "# Get 23rd row, 2nd column (index 22, 1)\n",
    "print(temperatures.iloc[22, 1])\n",
    "\n",
    "# Use slicing to get the first 5 rows\n",
    "print(temperatures.iloc[0:6])\n",
    "\n",
    "# Use slicing to get columns 3 to 4\n",
    "print(temperatures.iloc[:, 2:4])\n",
    "\n",
    "# Use slicing in both directions at once\n",
    "print(temperatures.iloc[0:6, 2:4])"
   ]
  }
 ],
 "metadata": {
  "language_info": {
   "name": "python"
  },
  "orig_nbformat": 4
 },
 "nbformat": 4,
 "nbformat_minor": 2
}
